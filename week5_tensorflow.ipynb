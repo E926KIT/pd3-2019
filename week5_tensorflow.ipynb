{
 "cells": [
  {
   "cell_type": "code",
   "execution_count": 1,
   "metadata": {},
   "outputs": [],
   "source": [
    "import tensorflow as tf"
   ]
  },
  {
   "cell_type": "code",
   "execution_count": 2,
   "metadata": {},
   "outputs": [
    {
     "name": "stdout",
     "output_type": "stream",
     "text": [
      "WARNING:tensorflow:From C:\\Users\\nakano\\Anaconda3\\envs\\seminar\\lib\\site-packages\\tensorflow\\python\\framework\\op_def_library.py:263: colocate_with (from tensorflow.python.framework.ops) is deprecated and will be removed in a future version.\n",
      "Instructions for updating:\n",
      "Colocations handled automatically by placer.\n"
     ]
    }
   ],
   "source": [
    "theta1 = tf.Variable(0.0, name='theta1')\n",
    "theta2 = tf.Variable(0.0, name='theta2')\n",
    "cost = (theta1 - theta2 + 1)**2 + (theta2 - 3)**2"
   ]
  },
  {
   "cell_type": "code",
   "execution_count": 3,
   "metadata": {},
   "outputs": [
    {
     "data": {
      "text/plain": [
       "<tf.Tensor 'add_1:0' shape=() dtype=float32>"
      ]
     },
     "execution_count": 3,
     "metadata": {},
     "output_type": "execute_result"
    }
   ],
   "source": [
    "cost"
   ]
  },
  {
   "cell_type": "code",
   "execution_count": 4,
   "metadata": {},
   "outputs": [],
   "source": [
    "sess = tf.Session()\n",
    "opt = tf.train.GradientDescentOptimizer(learning_rate=0.01).minimize(cost)"
   ]
  },
  {
   "cell_type": "code",
   "execution_count": 5,
   "metadata": {},
   "outputs": [],
   "source": [
    "init = tf.global_variables_initializer()\n",
    "sess.run(init)"
   ]
  },
  {
   "cell_type": "code",
   "execution_count": 6,
   "metadata": {},
   "outputs": [
    {
     "name": "stdout",
     "output_type": "stream",
     "text": [
      "-0.02 0.08\n",
      "1.9987066 2.9992006\n",
      "1.9999886 2.9999914\n",
      "1.9999886 2.9999914\n",
      "1.9999886 2.9999914\n",
      "1.9999886 2.9999914\n",
      "1.9999886 2.9999914\n",
      "1.9999886 2.9999914\n",
      "1.9999886 2.9999914\n",
      "1.9999886 2.9999914\n"
     ]
    }
   ],
   "source": [
    "for i in range(10000):\n",
    "    _, theta1_value, theta2_value = sess.run([opt, theta1, theta2])\n",
    "    if i % 1000 == 0:\n",
    "        print(theta1_value, theta2_value)"
   ]
  },
  {
   "cell_type": "markdown",
   "metadata": {},
   "source": [
    "## List や Numpy Array の shallow copy に注意!"
   ]
  },
  {
   "cell_type": "code",
   "execution_count": 7,
   "metadata": {},
   "outputs": [
    {
     "name": "stdout",
     "output_type": "stream",
     "text": [
      "[1, 2, 3, 4, 5] [1.0001, 2, 3, 4, 5]\n",
      "[1, 2, 3, 4, 5] [0.9999, 2, 3, 4, 5]\n"
     ]
    }
   ],
   "source": [
    "epsilon = 1e-4\n",
    "theta = [1, 2, 3, 4, 5]\n",
    "theta_plus = list(theta)\n",
    "theta_plus[0] += epsilon\n",
    "print(theta, theta_plus)\n",
    "theta_minus = list(theta)\n",
    "theta_minus[0] -= epsilon\n",
    "print(theta, theta_minus)"
   ]
  },
  {
   "cell_type": "code",
   "execution_count": 8,
   "metadata": {},
   "outputs": [
    {
     "name": "stdout",
     "output_type": "stream",
     "text": [
      "[1. 2. 3. 4. 5.] [1.0001 2.     3.     4.     5.    ]\n",
      "[1. 2. 3. 4. 5.] [0.9999 2.     3.     4.     5.    ]\n"
     ]
    }
   ],
   "source": [
    "import numpy as np\n",
    "epsilon = 1e-4\n",
    "theta = np.array([1, 2, 3, 4, 5], dtype=np.float)\n",
    "theta_plus = np.copy(theta)\n",
    "theta_plus[0] += epsilon\n",
    "print(theta, theta_plus)\n",
    "theta_minus = np.copy(theta)\n",
    "theta_minus[0] -= epsilon\n",
    "print(theta, theta_minus)"
   ]
  },
  {
   "cell_type": "code",
   "execution_count": null,
   "metadata": {},
   "outputs": [],
   "source": []
  }
 ],
 "metadata": {
  "kernelspec": {
   "display_name": "Python 3",
   "language": "python",
   "name": "python3"
  },
  "language_info": {
   "codemirror_mode": {
    "name": "ipython",
    "version": 3
   },
   "file_extension": ".py",
   "mimetype": "text/x-python",
   "name": "python",
   "nbconvert_exporter": "python",
   "pygments_lexer": "ipython3",
   "version": "3.6.8"
  }
 },
 "nbformat": 4,
 "nbformat_minor": 2
}
